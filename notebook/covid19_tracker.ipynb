{
 "cells": [
  {
   "cell_type": "code",
   "execution_count": null,
   "id": "ccdb5b7d",
   "metadata": {},
   "outputs": [
    {
     "name": "stderr",
     "output_type": "stream",
     "text": [
      "Matplotlib is building the font cache; this may take a moment.\n"
     ]
    },
    {
     "name": "stdout",
     "output_type": "stream",
     "text": [
      "Processed data not found. Run data processing script first!\n"
     ]
    },
    {
     "ename": "NameError",
     "evalue": "name 'df' is not defined",
     "output_type": "error",
     "traceback": [
      "\u001b[1;31m---------------------------------------------------------------------------\u001b[0m",
      "\u001b[1;31mNameError\u001b[0m                                 Traceback (most recent call last)",
      "Cell \u001b[1;32mIn[1], line 21\u001b[0m\n\u001b[0;32m     18\u001b[0m     \u001b[38;5;28mprint\u001b[39m(\u001b[38;5;124m\"\u001b[39m\u001b[38;5;124mProcessed data not found. Run data processing script first!\u001b[39m\u001b[38;5;124m\"\u001b[39m)\n\u001b[0;32m     20\u001b[0m \u001b[38;5;66;03m# Global Analysis\u001b[39;00m\n\u001b[1;32m---> 21\u001b[0m global_daily \u001b[38;5;241m=\u001b[39m df\u001b[38;5;241m.\u001b[39mgroupby(\u001b[38;5;124m'\u001b[39m\u001b[38;5;124mDate\u001b[39m\u001b[38;5;124m'\u001b[39m)\u001b[38;5;241m.\u001b[39magg({\n\u001b[0;32m     22\u001b[0m     \u001b[38;5;124m'\u001b[39m\u001b[38;5;124mConfirmed\u001b[39m\u001b[38;5;124m'\u001b[39m: \u001b[38;5;124m'\u001b[39m\u001b[38;5;124msum\u001b[39m\u001b[38;5;124m'\u001b[39m,\n\u001b[0;32m     23\u001b[0m     \u001b[38;5;124m'\u001b[39m\u001b[38;5;124mDeaths\u001b[39m\u001b[38;5;124m'\u001b[39m: \u001b[38;5;124m'\u001b[39m\u001b[38;5;124msum\u001b[39m\u001b[38;5;124m'\u001b[39m,\n\u001b[0;32m     24\u001b[0m     \u001b[38;5;124m'\u001b[39m\u001b[38;5;124mRecovered\u001b[39m\u001b[38;5;124m'\u001b[39m: \u001b[38;5;124m'\u001b[39m\u001b[38;5;124msum\u001b[39m\u001b[38;5;124m'\u001b[39m\n\u001b[0;32m     25\u001b[0m })\u001b[38;5;241m.\u001b[39mreset_index()\n\u001b[0;32m     27\u001b[0m \u001b[38;5;66;03m# Visualization 1: Global Spread\u001b[39;00m\n\u001b[0;32m     28\u001b[0m plt\u001b[38;5;241m.\u001b[39mfigure(figsize\u001b[38;5;241m=\u001b[39m(\u001b[38;5;241m14\u001b[39m, \u001b[38;5;241m7\u001b[39m))\n",
      "\u001b[1;31mNameError\u001b[0m: name 'df' is not defined"
     ]
    }
   ],
   "source": [
    "# Import libraries\n",
    "import pandas as pd\n",
    "import matplotlib.pyplot as plt\n",
    "import seaborn as sns\n",
    "from pathlib import Path\n",
    "\n",
    "# Configuration\n",
    "DATA_PATH = Path('..') / 'data' / 'processed_global_data.csv'\n",
    "plt.style.use('ggplot')\n",
    "sns.set_palette(\"husl\")\n",
    "\n",
    "# Load processed data\n",
    "try:\n",
    "    df = pd.read_csv(DATA_PATH, parse_dates=['Date'])\n",
    "    print(\"Data loaded successfully!\")\n",
    "    print(f\"Data range: {df['Date'].min().date()} to {df['Date'].max().date()}\")\n",
    "except FileNotFoundError:\n",
    "    print(\"Processed data not found. Run data processing script first!\")\n",
    "\n",
    "# Global Analysis\n",
    "global_daily = df.groupby('Date').agg({\n",
    "    'Confirmed': 'sum',\n",
    "    'Deaths': 'sum',\n",
    "    'Recovered': 'sum'\n",
    "}).reset_index()\n",
    "\n",
    "# Visualization 1: Global Spread\n",
    "plt.figure(figsize=(14, 7))\n",
    "plt.plot(global_daily['Date'], global_daily['Confirmed'], label='Confirmed Cases')\n",
    "plt.plot(global_daily['Date'], global_daily['Deaths'], label='Deaths')\n",
    "plt.plot(global_daily['Date'], global_daily['Recovered'], label='Recovered')\n",
    "plt.title('Global COVID-19 Spread Over Time')\n",
    "plt.xlabel('Date')\n",
    "plt.ylabel('Cases')\n",
    "plt.legend()\n",
    "plt.show()\n",
    "\n",
    "# Country Analysis\n",
    "latest_date = df['Date'].max()\n",
    "country_data = df[df['Date'] == latest_date].groupby('Country/Region').agg({\n",
    "    'Confirmed': 'sum',\n",
    "    'Deaths': 'sum',\n",
    "    'Recovered': 'sum'\n",
    "}).sort_values('Confirmed', ascending=False)\n",
    "\n",
    "# Visualization 2: Top 10 Countries\n",
    "top_countries = country_data.head(10)\n",
    "plt.figure(figsize=(14, 7))\n",
    "sns.barplot(x=top_countries['Confirmed'], y=top_countries.index)\n",
    "plt.title(f'Top 10 Countries by Confirmed Cases ({latest_date.date()})')\n",
    "plt.xlabel('Confirmed Cases')\n",
    "plt.ylabel('Country')\n",
    "plt.show()\n",
    "\n",
    "# Mortality Rate Analysis\n",
    "country_data['Mortality Rate'] = (country_data['Deaths'] / country_data['Confirmed']) * 100\n",
    "mortality_sorted = country_data[country_data['Confirmed'] > 10000].sort_values('Mortality Rate', ascending=False)\n",
    "\n",
    "# Visualization 3: Mortality Rates\n",
    "plt.figure(figsize=(14, 7))\n",
    "sns.barplot(x=mortality_sorted['Mortality Rate'].head(10), \n",
    "            y=mortality_sorted.index.head(10))\n",
    "plt.title('Highest COVID-19 Mortality Rates (Countries with >10k cases)')\n",
    "plt.xlabel('Mortality Rate (%)')\n",
    "plt.ylabel('Country')\n",
    "plt.show()\n",
    "\n",
    "# Time Series Analysis for Selected Countries\n",
    "countries = ['US', 'India', 'Brazil', 'Russia', 'UK']\n",
    "filtered = df[df['Country/Region'].isin(countries)]\n",
    "\n",
    "plt.figure(figsize=(14, 7))\n",
    "for country in countries:\n",
    "    country_df = filtered[filtered['Country/Region'] == country]\n",
    "    plt.plot(country_df['Date'], country_df['Confirmed'], label=country)\n",
    "\n",
    "plt.title('COVID-19 Spread in Selected Countries')\n",
    "plt.xlabel('Date')\n",
    "plt.ylabel('Confirmed Cases')\n",
    "plt.legend()\n",
    "plt.show()"
   ]
  }
 ],
 "metadata": {
  "kernelspec": {
   "display_name": "base",
   "language": "python",
   "name": "python3"
  },
  "language_info": {
   "codemirror_mode": {
    "name": "ipython",
    "version": 3
   },
   "file_extension": ".py",
   "mimetype": "text/x-python",
   "name": "python",
   "nbconvert_exporter": "python",
   "pygments_lexer": "ipython3",
   "version": "3.12.7"
  }
 },
 "nbformat": 4,
 "nbformat_minor": 5
}
